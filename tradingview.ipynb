{
 "cells": [
  {
   "cell_type": "code",
   "execution_count": 1,
   "metadata": {},
   "outputs": [],
   "source": [
    "from tradingview_ta import TA_Handler, Exchange, Interval"
   ]
  },
  {
   "cell_type": "code",
   "execution_count": 2,
   "metadata": {},
   "outputs": [],
   "source": [
    "tesla = TA_Handler(\n",
    "    symbol='TSLA',\n",
    "    screener='america',\n",
    "    exchange='NASDAQ',\n",
    "    interval=Interval.INTERVAL_1_DAY\n",
    ")"
   ]
  },
  {
   "cell_type": "code",
   "execution_count": 3,
   "metadata": {},
   "outputs": [
    {
     "data": {
      "text/plain": [
       "{'RECOMMENDATION': 'BUY', 'BUY': 10, 'SELL': 7, 'NEUTRAL': 9}"
      ]
     },
     "execution_count": 3,
     "metadata": {},
     "output_type": "execute_result"
    }
   ],
   "source": [
    "tesla.get_analysis().summary"
   ]
  },
  {
   "cell_type": "code",
   "execution_count": 4,
   "metadata": {},
   "outputs": [
    {
     "data": {
      "text/plain": [
       "{'Recommend.Other': 0.27272727,\n",
       " 'Recommend.All': 0.13636364,\n",
       " 'Recommend.MA': 0,\n",
       " 'RSI': 50.39377428,\n",
       " 'RSI[1]': 50.11283394,\n",
       " 'Stoch.K': 73.59089432,\n",
       " 'Stoch.D': 72.89133073,\n",
       " 'Stoch.K[1]': 75.10203726,\n",
       " 'Stoch.D[1]': 72.39433439,\n",
       " 'CCI20': 138.92758225,\n",
       " 'CCI20[1]': 109.69325164,\n",
       " 'ADX': 25.79716914,\n",
       " 'ADX+DI': 23.41788835,\n",
       " 'ADX-DI': 22.7118655,\n",
       " 'ADX+DI[1]': 21.41226072,\n",
       " 'ADX-DI[1]': 24.30314647,\n",
       " 'AO': -2.75974706,\n",
       " 'AO[1]': -5.44171765,\n",
       " 'Mom': 11.6,\n",
       " 'Mom[1]': 5.83,\n",
       " 'MACD.macd': -3.50795238,\n",
       " 'MACD.signal': -6.18075929,\n",
       " 'Rec.Stoch.RSI': 0,\n",
       " 'Stoch.RSI.K': 91.83269042,\n",
       " 'Rec.WR': 0,\n",
       " 'W.R': -24.98797427,\n",
       " 'Rec.BBPower': 0,\n",
       " 'BBPower': 13.15100123,\n",
       " 'Rec.UO': 0,\n",
       " 'UO': 49.61965248,\n",
       " 'close': 199.73,\n",
       " 'EMA5': 197.24609497,\n",
       " 'SMA5': 196.656,\n",
       " 'EMA10': 195.62435598,\n",
       " 'SMA10': 195.017,\n",
       " 'EMA20': 196.64111782,\n",
       " 'SMA20': 191.541,\n",
       " 'EMA30': 200.56729885,\n",
       " 'SMA30': 195.76433333,\n",
       " 'EMA50': 208.3440649,\n",
       " 'SMA50': 215.5684,\n",
       " 'EMA100': 219.12814122,\n",
       " 'SMA100': 224.6493,\n",
       " 'EMA200': 223.95091356,\n",
       " 'SMA200': 234.2909,\n",
       " 'Rec.Ichimoku': 0,\n",
       " 'Ichimoku.BLine': 196.405,\n",
       " 'Rec.VWMA': 1,\n",
       " 'VWMA': 191.54189078,\n",
       " 'Rec.HullMA9': 1,\n",
       " 'HullMA9': 197.35474074,\n",
       " 'Pivot.M.Classic.S3': 63.82,\n",
       " 'Pivot.M.Classic.S2': 135.01,\n",
       " 'Pivot.M.Classic.S1': 161.15,\n",
       " 'Pivot.M.Classic.Middle': 206.2,\n",
       " 'Pivot.M.Classic.R1': 232.34,\n",
       " 'Pivot.M.Classic.R2': 277.39,\n",
       " 'Pivot.M.Classic.R3': 348.58,\n",
       " 'Pivot.M.Fibonacci.S3': 135.01,\n",
       " 'Pivot.M.Fibonacci.S2': 162.20458,\n",
       " 'Pivot.M.Fibonacci.S1': 179.00542,\n",
       " 'Pivot.M.Fibonacci.Middle': 206.2,\n",
       " 'Pivot.M.Fibonacci.R1': 233.39458,\n",
       " 'Pivot.M.Fibonacci.R2': 250.19542,\n",
       " 'Pivot.M.Fibonacci.R3': 277.39,\n",
       " 'Pivot.M.Camarilla.S3': 167.71275,\n",
       " 'Pivot.M.Camarilla.S2': 174.2385,\n",
       " 'Pivot.M.Camarilla.S1': 180.76425,\n",
       " 'Pivot.M.Camarilla.Middle': 206.2,\n",
       " 'Pivot.M.Camarilla.R1': 193.81575,\n",
       " 'Pivot.M.Camarilla.R2': 200.3415,\n",
       " 'Pivot.M.Camarilla.R3': 206.86725,\n",
       " 'Pivot.M.Woodie.S3': 81.715,\n",
       " 'Pivot.M.Woodie.S2': 130.8875,\n",
       " 'Pivot.M.Woodie.S1': 152.905,\n",
       " 'Pivot.M.Woodie.Middle': 202.0775,\n",
       " 'Pivot.M.Woodie.R1': 224.095,\n",
       " 'Pivot.M.Woodie.R2': 273.2675,\n",
       " 'Pivot.M.Woodie.R3': 295.285,\n",
       " 'Pivot.M.Demark.S1': 148.08,\n",
       " 'Pivot.M.Demark.Middle': 199.665,\n",
       " 'Pivot.M.Demark.R1': 219.27,\n",
       " 'open': 204.04,\n",
       " 'P.SAR': 191.5,\n",
       " 'BB.lower': 180.41792866,\n",
       " 'BB.upper': 202.66407134,\n",
       " 'AO[2]': -5.95741912,\n",
       " 'volume': 108365850,\n",
       " 'change': 0.16549649,\n",
       " 'low': 198.26,\n",
       " 'high': 205.6}"
      ]
     },
     "execution_count": 4,
     "metadata": {},
     "output_type": "execute_result"
    }
   ],
   "source": [
    "tesla.get_analysis().indicators"
   ]
  }
 ],
 "metadata": {
  "interpreter": {
   "hash": "90962ebba804a7374d0df5a826e5f8d4819a77d4cafe14fef7e688241de185e9"
  },
  "kernelspec": {
   "display_name": "Python 3.10.12 ('.venv': venv)",
   "language": "python",
   "name": "python3"
  },
  "language_info": {
   "codemirror_mode": {
    "name": "ipython",
    "version": 3
   },
   "file_extension": ".py",
   "mimetype": "text/x-python",
   "name": "python",
   "nbconvert_exporter": "python",
   "pygments_lexer": "ipython3",
   "version": "3.10.12"
  },
  "orig_nbformat": 4
 },
 "nbformat": 4,
 "nbformat_minor": 2
}
